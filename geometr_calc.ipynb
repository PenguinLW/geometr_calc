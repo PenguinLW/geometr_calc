{
 "cells": [
  {
   "cell_type": "markdown",
   "metadata": {},
   "source": [
    "##"
   ]
  },
  {
   "cell_type": "code",
   "execution_count": 2,
   "metadata": {},
   "outputs": [],
   "source": [
    "from shapes.shape import Shape\n",
    "\n",
    "from shapes.p_shapes import *\n",
    "from shapes.v_shapes import *\n",
    "\n"
   ]
  },
  {
   "cell_type": "code",
   "execution_count": 7,
   "metadata": {},
   "outputs": [
    {
     "name": "stdout",
     "output_type": "stream",
     "text": [
      "21.0 20.0\n",
      "21.0 20.0\n",
      "круг\n",
      "квадрат\n",
      "прамоугольник\n",
      "треугольник\n",
      "трапеция\n",
      "ромб\n",
      "сфера\n",
      "куб\n",
      "параллелепипед\n",
      "пирамида\n",
      "цилиндр\n",
      "конус\n"
     ]
    }
   ],
   "source": [
    "tmp_p = []\n",
    "tmp_p.append(Circle())\n",
    "tmp_p.append(Square(a = 3, b = 7))\n",
    "print(\n",
    "    tmp_p[1].count_square(),\n",
    "    tmp_p[1].count_perimeter()\n",
    ")\n",
    "\n",
    "tmp_p.append(Rect(a = 3, b = 7))\n",
    "print(\n",
    "    tmp_p[2].count_square(),\n",
    "    tmp_p[2].count_perimeter()\n",
    ")\n",
    "tmp_p.append(Triang())\n",
    "tmp_p.append(Trapec())\n",
    "tmp_p.append(Rhombe())\n",
    "\n",
    "for el in tmp_p:\n",
    "    print(\n",
    "        el.title\n",
    "#        el.count_perimeter(),\n",
    "#        el.count_square()\n",
    "    )\n",
    "\n",
    "tmp_v = []\n",
    "tmp_v.append(Sphere())\n",
    "tmp_v.append(Cube())\n",
    "tmp_v.append(Paralld())\n",
    "tmp_v.append(Pyram())\n",
    "\n",
    "\n",
    "tmp_v.append(Cilinder())\n",
    "tmp_v.append(Conus())\n",
    "\n",
    "\n",
    "for el in tmp_v:\n",
    "    print(\n",
    "        el.title\n",
    "#        el.count_(),\n",
    "#        el.count_()\n",
    "    )\n",
    "    \n",
    "\n"
   ]
  },
  {
   "cell_type": "markdown",
   "metadata": {},
   "source": [
    "## http://htmlbook.ru/html/select\n",
    "## https://developer.mozilla.org/ru/docs/Web/HTML/Global_attributes/id"
   ]
  },
  {
   "cell_type": "code",
   "execution_count": 33,
   "metadata": {},
   "outputs": [
    {
     "name": "stdout",
     "output_type": "stream",
     "text": [
      " * Serving Flask app \"__main__\" (lazy loading)\n",
      " * Environment: production\n",
      "   WARNING: This is a development server. Do not use it in a production deployment.\n",
      "   Use a production WSGI server instead.\n",
      " * Debug mode: off\n"
     ]
    },
    {
     "name": "stderr",
     "output_type": "stream",
     "text": [
      " * Running on http://0.0.0.0:1111/ (Press CTRL+C to quit)\n",
      "192.168.43.213 - - [17/Feb/2022 17:02:19] \"\u001b[37mGET / HTTP/1.1\u001b[0m\" 200 -\n",
      "192.168.43.213 - - [17/Feb/2022 17:02:20] \"\u001b[37mGET /static/script/main.js HTTP/1.1\u001b[0m\" 200 -\n",
      "192.168.43.213 - - [17/Feb/2022 17:02:21] \"\u001b[37mGET /plot.png HTTP/1.1\u001b[0m\" 200 -\n"
     ]
    }
   ],
   "source": [
    "import io\n",
    "import random\n",
    "from matplotlib.backends.backend_agg import FigureCanvasAgg as FigureCanvas\n",
    "from matplotlib.figure import Figure\n",
    "from flask import Flask, render_template, Response;\n",
    "\n",
    "def sapp():\n",
    "    return App().app\n",
    "\n",
    "class App():\n",
    "    def __init__(appm):\n",
    "        \n",
    "        appm.app = Flask(__name__);\n",
    "        \n",
    "        @appm.app.route(\"/\")\n",
    "        def app():\n",
    "            return render_template(\"app.html\", title = 'PenguinL', options = Shape.store_fg);\n",
    "        \n",
    "        @appm.app.route('/plot.png')\n",
    "        def plot_png():\n",
    "            fig = create_figure()\n",
    "            output = io.BytesIO()\n",
    "            FigureCanvas(fig).print_png(output)\n",
    "            return Response(output.getvalue(), mimetype='image/png')\n",
    "        @appm.app.route('/plot3d.png')\n",
    "        def plot_3dpng():\n",
    "            fig = create_3dfigure()\n",
    "            output = io.BytesIO()\n",
    "            FigureCanvas(fig).print_png(output)\n",
    "            return Response(output.getvalue(), mimetype='image/png')\n",
    "        \n",
    "        def create_figure():\n",
    "            fig = Figure()\n",
    "            axis = fig.add_subplot(1, 1, 1)\n",
    "#            xs = range(100)\n",
    "#            ys = [random.randint(1, 50) for x in xs]\n",
    "            xs = [2, 4, 3, 7]\n",
    "            ys = [3, 7, 9, 9]\n",
    "\n",
    "            xs.append(xs[0])\n",
    "            ys.append(ys[0])\n",
    "\n",
    "            axis.plot(xs, ys)\n",
    "            return fig\n",
    "        def create_3dfigure():\n",
    "            fig = Figure()\n",
    "            axis = fig.add_subplot(1, 1, 1)\n",
    "            xs = [2, 4, 3, 7]\n",
    "            ys = [3, 7, 9, 9]\n",
    "\n",
    "            zs = [3, 7, 9, 9]\n",
    "            \n",
    "            xs.append(xs[0])\n",
    "            ys.append(ys[0])\n",
    "\n",
    "            zs.append(zs[0])\n",
    "            \n",
    "#            axis.plot(xs, ys)\n",
    "            axis.plot(xs, ys, ys, xs, zs)\n",
    "            return fig\n",
    "\n",
    "if __name__ == \"__main__\":\n",
    "    App().app.run(host='0.0.0.0', port=1111, debug=False);\n"
   ]
  },
  {
   "cell_type": "code",
   "execution_count": null,
   "metadata": {},
   "outputs": [],
   "source": []
  }
 ],
 "metadata": {
  "kernelspec": {
   "display_name": "Python 3",
   "language": "python",
   "name": "python3"
  },
  "language_info": {
   "codemirror_mode": {
    "name": "ipython",
    "version": 3
   },
   "file_extension": ".py",
   "mimetype": "text/x-python",
   "name": "python",
   "nbconvert_exporter": "python",
   "pygments_lexer": "ipython3",
   "version": "3.8.8"
  }
 },
 "nbformat": 4,
 "nbformat_minor": 5
}
